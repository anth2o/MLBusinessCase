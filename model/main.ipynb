{
 "cells": [
  {
   "cell_type": "code",
   "execution_count": 1,
   "metadata": {},
   "outputs": [],
   "source": [
    "import pandas as pd\n",
    "\n",
    "import preprocessing as pp\n",
    "import model\n",
    "from train import train_model\n",
    "from predict import predict"
   ]
  },
  {
   "cell_type": "code",
   "execution_count": 2,
   "metadata": {},
   "outputs": [],
   "source": [
    "# Data loading\n",
    "df_store = pd.read_csv('../data/store.csv')\n",
    "df_train = pd.read_csv('../data/train.csv', low_memory=False)"
   ]
  },
  {
   "cell_type": "markdown",
   "metadata": {},
   "source": [
    "## General pipeline test"
   ]
  },
  {
   "cell_type": "markdown",
   "metadata": {},
   "source": [
    "### Model selection (Time-split cross-validation)"
   ]
  },
  {
   "cell_type": "code",
   "execution_count": 3,
   "metadata": {},
   "outputs": [
    {
     "name": "stderr",
     "output_type": "stream",
     "text": [
      "C:\\Anaconda3\\lib\\site-packages\\sklearn\\preprocessing\\data.py:625: DataConversionWarning: Data with input dtype int64, float64 were all converted to float64 by StandardScaler.\n",
      "  return self.partial_fit(X, y)\n",
      "C:\\Anaconda3\\lib\\site-packages\\sklearn\\base.py:465: DataConversionWarning: Data with input dtype int64, float64 were all converted to float64 by StandardScaler.\n",
      "  return self.fit(X, y, **fit_params).transform(X)\n"
     ]
    },
    {
     "name": "stdout",
     "output_type": "stream",
     "text": [
      "FOLD 1: RSME = 2389.9576481734425 | R² = 0.6260729929867368\n",
      "FOLD 2: RSME = 2378.673278997117 | R² = 0.6382162678920918\n"
     ]
    }
   ],
   "source": [
    "from sklearn.model_selection import TimeSeriesSplit\n",
    "from train import rmse, r2\n",
    "\n",
    "train = df_train.copy().iloc[::-1]\n",
    "train.Date = pd.to_datetime(train.Date)\n",
    "\n",
    "n_splits = 10\n",
    "tscv = TimeSeriesSplit(n_splits=n_splits)\n",
    "\n",
    "reg_model = model.Regressor()\n",
    "rmse_scores = []\n",
    "r2_scores = []\n",
    "\n",
    "date_grouping = train.groupby(train.Date)['Store']\n",
    "date_list = [g[0] for g in list(date_grouping)[:]]\n",
    "for train_index, test_index in tscv.split(date_grouping):\n",
    "    train_dates = [date_list[train_index[0]], date_list[train_index[-1]]]\n",
    "    test_dates = [date_list[test_index[0]], date_list[test_index[-1]]]\n",
    "    train_mask = (train.Date >= train_dates[0]) & (train.Date <= train_dates[1])\n",
    "    test_mask = (train.Date >= test_dates[0]) & (train.Date <= test_dates[1])\n",
    "    \n",
    "    train.loc[test_mask]\n",
    "    \n",
    "    # Train and test sets\n",
    "    X_train, y_train = pp.Preprocessor().transform(df_store, train.loc[train_mask])\n",
    "    X_test, y_test = pp.Preprocessor().transform(df_store, train.loc[test_mask])\n",
    "    \n",
    "    # Dummy variables can induce differences in the schemas\n",
    "    missing_test = set(X_train.columns) - set(X_test.columns)\n",
    "    missing_train = set(X_test.columns) - set(X_train.columns)\n",
    "    for c in missing_test:\n",
    "        X_test[c] = 0\n",
    "    for c in missing_train:\n",
    "        X_train[c] = 0\n",
    "    # Reorder to match columns order in train and test\n",
    "    X_test = X_test[X_train.columns]\n",
    "    \n",
    "    # Model fitting on training set\n",
    "    train_model(reg_model, X_train, y_train)\n",
    "\n",
    "    # Scoring on test set\n",
    "    y_pred = reg_model.predict(X_test)\n",
    "    rmse_scores.append(rmse(y_test, y_pred))\n",
    "    r2_scores.append(r2(y_test, y_pred))\n",
    "        \n",
    "# Final display\n",
    "for i in range(n_splits):\n",
    "    print(\"FOLD \" + str(i + 1) + \": \" + \"RSME = \" + str(rmse_scores[i]) + \n",
    "      \" | R² = \" + str(r2_scores[i]))"
   ]
  }
 ],
 "metadata": {
  "kernelspec": {
   "display_name": "Python 3",
   "language": "python",
   "name": "python3"
  },
  "language_info": {
   "codemirror_mode": {
    "name": "ipython",
    "version": 3
   },
   "file_extension": ".py",
   "mimetype": "text/x-python",
   "name": "python",
   "nbconvert_exporter": "python",
   "pygments_lexer": "ipython3",
   "version": "3.7.1"
  }
 },
 "nbformat": 4,
 "nbformat_minor": 2
}
