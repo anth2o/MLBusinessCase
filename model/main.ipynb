{
 "cells": [
  {
   "cell_type": "code",
   "execution_count": 10,
   "metadata": {
    "collapsed": true
   },
   "outputs": [],
   "source": [
    "import pandas as pd\n",
    "import numpy as np\n",
    "\n",
    "import preprocessing as pp\n",
    "import model\n",
    "from train import train_model\n",
    "from predict import predict"
   ]
  },
  {
   "cell_type": "code",
   "execution_count": 11,
   "metadata": {
    "collapsed": true
   },
   "outputs": [],
   "source": [
    "# Data loading\n",
    "df_store = pd.read_csv('../data/store.csv')\n",
    "df_train = pd.read_csv('../data/train.csv', low_memory=False)"
   ]
  },
  {
   "cell_type": "markdown",
   "metadata": {},
   "source": [
    "## General pipeline test"
   ]
  },
  {
   "cell_type": "markdown",
   "metadata": {},
   "source": [
    "### Model selection (Time-split cross-validation)"
   ]
  },
  {
   "cell_type": "code",
   "execution_count": 12,
   "metadata": {},
   "outputs": [
    {
     "name": "stdout",
     "output_type": "stream",
     "text": [
      "FOLD 1: RSME = 1021.030575494208 | R² = 0.8773542416937264\n",
      "FOLD 2: RSME = 1034.2511374965702 | R² = 0.8740763328250686\n",
      "FOLD 3: RSME = 1375.6073013301593 | R² = 0.8064136150900911\n",
      "FOLD 4: RSME = 953.7371352484539 | R² = 0.8946355191205734\n",
      "FOLD 5: RSME = 1185.8121245991567 | R² = 0.847408331632223\n",
      "FOLD 6: RSME = 1152.575591317617 | R² = 0.8456257887762073\n",
      "FOLD 7: RSME = 1038.42823564974 | R² = 0.8648170891924178\n",
      "FOLD 8: RSME = 1050.8495749655294 | R² = 0.8649525654901132\n",
      "FOLD 9: RSME = 1475.3725778797975 | R² = 0.8053101498271293\n",
      "FOLD 10: RSME = 1145.386963215362 | R² = 0.8594035177072104\n",
      "--- OVERALL ---\n",
      "RSME = 1162.00 | R² = 0.85\n"
     ]
    }
   ],
   "source": [
    "from sklearn.model_selection import TimeSeriesSplit\n",
    "from train import rmse, r2\n",
    "\n",
    "train = df_train.copy().iloc[::-1]\n",
    "train.Date = pd.to_datetime(train.Date)\n",
    "\n",
    "n_splits = 10\n",
    "test_size = 42\n",
    "tscv = TimeSeriesSplit(n_splits=n_splits)\n",
    "\n",
    "reg_model = model.Regressor()\n",
    "rmse_scores = []\n",
    "r2_scores = []\n",
    "\n",
    "date_grouping = train.groupby(train.Date)['Store']\n",
    "date_list = [g[0] for g in list(date_grouping)[:]]\n",
    "for train_index, test_index in tscv.split(date_grouping):\n",
    "    \n",
    "    # Fixed test set cardinality (in number of days)\n",
    "    train_index = np.append(train_index, list(range(len(train_index), 1 + int(test_index[-1] - test_size))))\n",
    "    test_index = test_index[(1 + int(train_index[-1] - test_index[0])):]\n",
    "    \n",
    "    train_dates = [date_list[train_index[0]], date_list[train_index[-1]]]\n",
    "    test_dates = [date_list[test_index[0]], date_list[test_index[-1]]]\n",
    "    train_mask = (train.Date >= train_dates[0]) & (train.Date <= train_dates[1])\n",
    "    test_mask = (train.Date >= test_dates[0]) & (train.Date <= test_dates[1])\n",
    "    \n",
    "    # Train and test sets\n",
    "    X_train, y_train, X_PCA_train = pp.Preprocessor().transform(df_store, train.loc[train_mask])\n",
    "    X_test, y_test, X_PCA_test = pp.Preprocessor().transform(df_store, train.loc[test_mask])\n",
    "    \n",
    "    # Dummy variables can induce differences in the schemas\n",
    "    missing_test = set(X_train.columns) - set(X_test.columns)\n",
    "    missing_train = set(X_test.columns) - set(X_train.columns)\n",
    "    for c in missing_test:\n",
    "        X_test[c] = 0\n",
    "    for c in missing_train:\n",
    "        X_train[c] = 0\n",
    "    # Reorder to match columns order in train and test\n",
    "    X_test = X_test[X_train.columns]\n",
    "    \n",
    "    # Model fitting on training set\n",
    "    train_model(reg_model, X_train, y_train)\n",
    "\n",
    "    # Scoring on test set\n",
    "    y_pred = reg_model.predict(X_test)\n",
    "    rmse_scores.append(rmse(y_test, y_pred))\n",
    "    r2_scores.append(r2(y_test, y_pred))\n",
    "        \n",
    "# Final display\n",
    "for i in range(n_splits):\n",
    "    print(\"FOLD \" + str(i + 1) + \": \" + \"RSME = \" + str(rmse_scores[i]) + \n",
    "      \" | R² = \" + str(r2_scores[i]))\n",
    "    \n",
    "# Overall scores\n",
    "w = [1 + 0.5 * i for i in range(1, n_splits + 1)]\n",
    "print(\"--- OVERALL ---\")\n",
    "print(\"RSME = \" + '{0:.2f}'.format(np.average(rmse_scores, weights=w)) + \" | R² = \" + '{0:.2f}'.format(np.average(r2_scores, weights=w)))"
   ]
  },
  {
   "cell_type": "markdown",
   "metadata": {},
   "source": [
    "### Model selection (Held-out test set of the last 6 weeks)"
   ]
  },
  {
   "cell_type": "code",
   "execution_count": 13,
   "metadata": {},
   "outputs": [
    {
     "name": "stdout",
     "output_type": "stream",
     "text": [
      "RSME = 1139.4394499325153 | R² = 0.859883338523965\n"
     ]
    }
   ],
   "source": [
    "from sklearn.model_selection import TimeSeriesSplit\n",
    "from train import rmse, r2\n",
    "\n",
    "train = df_train.copy().iloc[::-1]\n",
    "train.Date = pd.to_datetime(train.Date)\n",
    "train_set = train[train.Date < '2015-06-19']\n",
    "test_set = train[train.Date >= '2015-06-19']\n",
    "\n",
    "reg_model = model.Regressor()\n",
    "rmse_scores = []\n",
    "r2_scores = []\n",
    "\n",
    "X_train, y_train, X_PCA_train = pp.Preprocessor().transform(df_store, train_set)\n",
    "X_test, y_test, X_PCA_test = pp.Preprocessor().transform(df_store, test_set)\n",
    "\n",
    "# Dummy variables can induce differences in the schemas\n",
    "missing_test = set(X_train.columns) - set(X_test.columns)\n",
    "missing_train = set(X_test.columns) - set(X_train.columns)\n",
    "for c in missing_test:\n",
    "    X_test[c] = 0\n",
    "for c in missing_train:\n",
    "    X_train[c] = 0\n",
    "# Reorder to match columns order in train and test\n",
    "X_test = X_test[X_train.columns]\n",
    "\n",
    "# Model fitting on training set\n",
    "train_model(reg_model, X_train, y_train)\n",
    "\n",
    "# Scoring on test set\n",
    "y_pred = reg_model.predict(X_test)\n",
    "rmse_scores = rmse(y_test, y_pred)\n",
    "r2_scores = r2(y_test, y_pred)\n",
    "\n",
    "print(\"RSME = \" + str(rmse_scores) + \" | R² = \" + str(r2_scores))"
   ]
  },
  {
   "cell_type": "markdown",
   "metadata": {},
   "source": [
    "### Model selection"
   ]
  },
  {
   "cell_type": "code",
   "execution_count": 15,
   "metadata": {},
   "outputs": [
    {
     "name": "stdout",
     "output_type": "stream",
     "text": [
      "LR: 0.224832 (0.041618)\n",
      "XGB: 0.385410 (0.032406)\n",
      "RF: 0.870310 (0.017098)\n"
     ]
    }
   ],
   "source": [
    "from sklearn.preprocessing import StandardScaler\n",
    "from sklearn.linear_model import LinearRegression\n",
    "from xgboost import XGBRegressor\n",
    "from sklearn.ensemble import RandomForestRegressor\n",
    "\n",
    "models = []\n",
    "models.append(('LR', LinearRegression()))\n",
    "models.append(('XGB', XGBRegressor()))\n",
    "models.append(('RF', RandomForestRegressor()))\n",
    "\n",
    "std = StandardScaler()\n",
    "\n",
    "results = []\n",
    "names = []\n",
    "\n",
    "train = df_train.copy().iloc[::-1]\n",
    "train.Date = pd.to_datetime(train.Date)\n",
    "\n",
    "n_splits = 5\n",
    "tscv = TimeSeriesSplit(n_splits=n_splits)\n",
    "\n",
    "date_grouping = train.groupby(train.Date)['Store']\n",
    "date_list = [g[0] for g in list(date_grouping)[:]]\n",
    "\n",
    "for name, model in models:\n",
    "    r2_scores = []\n",
    "    \n",
    "    for train_index, test_index in tscv.split(date_grouping):\n",
    "        # Fixed test set cardinality (in number of days)\n",
    "        train_index = np.append(train_index, list(range(len(train_index), 1 + int(test_index[-1] - test_size))))\n",
    "        test_index = test_index[(1 + int(train_index[-1] - test_index[0])):]\n",
    "\n",
    "        train_dates = [date_list[train_index[0]], date_list[train_index[-1]]]\n",
    "        test_dates = [date_list[test_index[0]], date_list[test_index[-1]]]\n",
    "        train_mask = (train.Date >= train_dates[0]) & (train.Date <= train_dates[1])\n",
    "        test_mask = (train.Date >= test_dates[0]) & (train.Date <= test_dates[1])\n",
    "\n",
    "        # Train and test sets\n",
    "        X_train, y_train, X_PCA_train = pp.Preprocessor().transform(df_store, train.loc[train_mask])\n",
    "        X_test, y_test, X_PCA_test = pp.Preprocessor().transform(df_store, train.loc[test_mask])\n",
    "        \n",
    "         # Train and test sets\n",
    "        X_train, y_train, X_PCA_train = pp.Preprocessor().transform(df_store, train.loc[train_mask])\n",
    "        X_test, y_test, X_PCA_test = pp.Preprocessor().transform(df_store, train.loc[test_mask])\n",
    "\n",
    "        # Dummy variables can induce differences in the schemas\n",
    "        missing_test = set(X_train.columns) - set(X_test.columns)\n",
    "        missing_train = set(X_test.columns) - set(X_train.columns)\n",
    "        for c in missing_test:\n",
    "            X_test[c] = 0\n",
    "        for c in missing_train:\n",
    "            X_train[c] = 0\n",
    "        # Reorder to match columns order in train and test\n",
    "        X_test = X_test[X_train.columns]\n",
    "        \n",
    "        X_train = std.fit_transform(X_train.loc[:, X_train.columns != 'Date'])\n",
    "        X_test = std.transform(X_test.loc[:, X_test.columns != 'Date'])\n",
    "\n",
    "        # Model fitting on training set\n",
    "        model.fit(X_train, y_train)\n",
    "\n",
    "        # Scoring on test set\n",
    "        y_pred = model.predict(X_test)\n",
    "        r2_scores.append(r2(y_test, y_pred))\n",
    "    \n",
    "    results.append(r2_scores)\n",
    "    names.append(name)\n",
    "    msg = \"%s: %f (%f)\" % (name, np.mean(r2_scores), np.std(r2_scores))\n",
    "    print(msg)"
   ]
  },
  {
   "cell_type": "code",
   "execution_count": 16,
   "metadata": {},
   "outputs": [
    {
     "data": {
      "image/png": "[encoded data removed]",
      "text/plain": [
       "<Figure size 1080x720 with 1 Axes>"
      ]
     },
     "metadata": {},
     "output_type": "display_data"
    }
   ],
   "source": [
    "import matplotlib.pyplot as plt\n",
    "%matplotlib inline\n",
    "\n",
    "fig = plt.figure(figsize=(15,10))\n",
    "fig.suptitle('Algorithm Comparison')\n",
    "ax = fig.add_subplot(111)\n",
    "plt.boxplot(results)\n",
    "ax.set_xticklabels(names)\n",
    "plt.show()"
   ]
  },
  {
   "cell_type": "markdown",
   "metadata": {},
   "source": [
    "## Preprocessing tests"
   ]
  },
  {
   "cell_type": "code",
   "execution_count": 17,
   "metadata": {
    "collapsed": true
   },
   "outputs": [],
   "source": [
    "# Data loading\n",
    "df_store = pd.read_csv('../data/store.csv')\n",
    "df_train = pd.read_csv('../data/train.csv', low_memory=False)"
   ]
  },
  {
   "cell_type": "code",
   "execution_count": 18,
   "metadata": {},
   "outputs": [
    {
     "name": "stdout",
     "output_type": "stream",
     "text": [
      "(844392, 22) (844392,) (844392, 13)\n"
     ]
    },
    {
     "data": {
      "text/html": [
       "<div>\n",
       "<style scoped>\n",
       "    .dataframe tbody tr th:only-of-type {\n",
       "        vertical-align: middle;\n",
       "    }\n",
       "\n",
       "    .dataframe tbody tr th {\n",
       "        vertical-align: top;\n",
       "    }\n",
       "\n",
       "    .dataframe thead th {\n",
       "        text-align: right;\n",
       "    }\n",
       "</style>\n",
       "<table border=\"1\" class=\"dataframe\">\n",
       "  <thead>\n",
       "    <tr style=\"text-align: right;\">\n",
       "      <th></th>\n",
       "      <th>DayOfWeek</th>\n",
       "      <th>Date</th>\n",
       "      <th>Open</th>\n",
       "      <th>Promo</th>\n",
       "      <th>SchoolHoliday</th>\n",
       "      <th>StateHoliday_a</th>\n",
       "      <th>StateHoliday_b</th>\n",
       "      <th>StateHoliday_c</th>\n",
       "      <th>cos_DayOfWeek</th>\n",
       "      <th>sin_DayOfWeek</th>\n",
       "      <th>...</th>\n",
       "      <th>PromoInterval_Feb,May,Aug,Nov</th>\n",
       "      <th>PromoInterval_Jan,Apr,Jul,Oct</th>\n",
       "      <th>PromoInterval_Mar,Jun,Sept,Dec</th>\n",
       "      <th>StoreType_b</th>\n",
       "      <th>StoreType_c</th>\n",
       "      <th>StoreType_d</th>\n",
       "      <th>Assortment_b</th>\n",
       "      <th>Assortment_c</th>\n",
       "      <th>CompetitionOpenSince</th>\n",
       "      <th>Promo2Since</th>\n",
       "    </tr>\n",
       "  </thead>\n",
       "  <tbody>\n",
       "    <tr>\n",
       "      <th>0</th>\n",
       "      <td>5</td>\n",
       "      <td>2015-07-31</td>\n",
       "      <td>1</td>\n",
       "      <td>1</td>\n",
       "      <td>1</td>\n",
       "      <td>0</td>\n",
       "      <td>0</td>\n",
       "      <td>0</td>\n",
       "      <td>-0.222521</td>\n",
       "      <td>-0.974928</td>\n",
       "      <td>...</td>\n",
       "      <td>0</td>\n",
       "      <td>0</td>\n",
       "      <td>0</td>\n",
       "      <td>0</td>\n",
       "      <td>1</td>\n",
       "      <td>0</td>\n",
       "      <td>0</td>\n",
       "      <td>0</td>\n",
       "      <td>105.0</td>\n",
       "      <td>648.142857</td>\n",
       "    </tr>\n",
       "    <tr>\n",
       "      <th>1</th>\n",
       "      <td>4</td>\n",
       "      <td>2015-07-30</td>\n",
       "      <td>1</td>\n",
       "      <td>1</td>\n",
       "      <td>1</td>\n",
       "      <td>0</td>\n",
       "      <td>0</td>\n",
       "      <td>0</td>\n",
       "      <td>-0.900969</td>\n",
       "      <td>-0.433884</td>\n",
       "      <td>...</td>\n",
       "      <td>0</td>\n",
       "      <td>0</td>\n",
       "      <td>0</td>\n",
       "      <td>0</td>\n",
       "      <td>1</td>\n",
       "      <td>0</td>\n",
       "      <td>0</td>\n",
       "      <td>0</td>\n",
       "      <td>105.0</td>\n",
       "      <td>648.142857</td>\n",
       "    </tr>\n",
       "    <tr>\n",
       "      <th>2</th>\n",
       "      <td>3</td>\n",
       "      <td>2015-07-29</td>\n",
       "      <td>1</td>\n",
       "      <td>1</td>\n",
       "      <td>1</td>\n",
       "      <td>0</td>\n",
       "      <td>0</td>\n",
       "      <td>0</td>\n",
       "      <td>-0.900969</td>\n",
       "      <td>0.433884</td>\n",
       "      <td>...</td>\n",
       "      <td>0</td>\n",
       "      <td>0</td>\n",
       "      <td>0</td>\n",
       "      <td>0</td>\n",
       "      <td>1</td>\n",
       "      <td>0</td>\n",
       "      <td>0</td>\n",
       "      <td>0</td>\n",
       "      <td>105.0</td>\n",
       "      <td>648.142857</td>\n",
       "    </tr>\n",
       "    <tr>\n",
       "      <th>3</th>\n",
       "      <td>2</td>\n",
       "      <td>2015-07-28</td>\n",
       "      <td>1</td>\n",
       "      <td>1</td>\n",
       "      <td>1</td>\n",
       "      <td>0</td>\n",
       "      <td>0</td>\n",
       "      <td>0</td>\n",
       "      <td>-0.222521</td>\n",
       "      <td>0.974928</td>\n",
       "      <td>...</td>\n",
       "      <td>0</td>\n",
       "      <td>0</td>\n",
       "      <td>0</td>\n",
       "      <td>0</td>\n",
       "      <td>1</td>\n",
       "      <td>0</td>\n",
       "      <td>0</td>\n",
       "      <td>0</td>\n",
       "      <td>105.0</td>\n",
       "      <td>648.142857</td>\n",
       "    </tr>\n",
       "    <tr>\n",
       "      <th>4</th>\n",
       "      <td>1</td>\n",
       "      <td>2015-07-27</td>\n",
       "      <td>1</td>\n",
       "      <td>1</td>\n",
       "      <td>1</td>\n",
       "      <td>0</td>\n",
       "      <td>0</td>\n",
       "      <td>0</td>\n",
       "      <td>0.623490</td>\n",
       "      <td>0.781831</td>\n",
       "      <td>...</td>\n",
       "      <td>0</td>\n",
       "      <td>0</td>\n",
       "      <td>0</td>\n",
       "      <td>0</td>\n",
       "      <td>1</td>\n",
       "      <td>0</td>\n",
       "      <td>0</td>\n",
       "      <td>0</td>\n",
       "      <td>105.0</td>\n",
       "      <td>648.142857</td>\n",
       "    </tr>\n",
       "  </tbody>\n",
       "</table>\n",
       "<p>5 rows × 22 columns</p>\n",
       "</div>"
      ],
      "text/plain": [
       "   DayOfWeek        Date  Open  Promo  SchoolHoliday  StateHoliday_a  \\\n",
       "0          5  2015-07-31     1      1              1               0   \n",
       "1          4  2015-07-30     1      1              1               0   \n",
       "2          3  2015-07-29     1      1              1               0   \n",
       "3          2  2015-07-28     1      1              1               0   \n",
       "4          1  2015-07-27     1      1              1               0   \n",
       "\n",
       "   StateHoliday_b  StateHoliday_c  cos_DayOfWeek  sin_DayOfWeek     ...       \\\n",
       "0               0               0      -0.222521      -0.974928     ...        \n",
       "1               0               0      -0.900969      -0.433884     ...        \n",
       "2               0               0      -0.900969       0.433884     ...        \n",
       "3               0               0      -0.222521       0.974928     ...        \n",
       "4               0               0       0.623490       0.781831     ...        \n",
       "\n",
       "   PromoInterval_Feb,May,Aug,Nov  PromoInterval_Jan,Apr,Jul,Oct  \\\n",
       "0                              0                              0   \n",
       "1                              0                              0   \n",
       "2                              0                              0   \n",
       "3                              0                              0   \n",
       "4                              0                              0   \n",
       "\n",
       "   PromoInterval_Mar,Jun,Sept,Dec  StoreType_b  StoreType_c  StoreType_d  \\\n",
       "0                               0            0            1            0   \n",
       "1                               0            0            1            0   \n",
       "2                               0            0            1            0   \n",
       "3                               0            0            1            0   \n",
       "4                               0            0            1            0   \n",
       "\n",
       "   Assortment_b  Assortment_c  CompetitionOpenSince  Promo2Since  \n",
       "0             0             0                 105.0   648.142857  \n",
       "1             0             0                 105.0   648.142857  \n",
       "2             0             0                 105.0   648.142857  \n",
       "3             0             0                 105.0   648.142857  \n",
       "4             0             0                 105.0   648.142857  \n",
       "\n",
       "[5 rows x 22 columns]"
      ]
     },
     "execution_count": 18,
     "metadata": {},
     "output_type": "execute_result"
    }
   ],
   "source": [
    "# Preprocessing\n",
    "X, y, X_PCA = pp.Preprocessor().transform(df_store, df_train)\n",
    "print(X.shape, y.shape, X_PCA.shape)\n",
    "X.head()"
   ]
  },
  {
   "cell_type": "code",
   "execution_count": 20,
   "metadata": {},
   "outputs": [],
   "source": [
    "reg_model = model.Regressor()\n",
    "train_model(reg_model, X, y)"
   ]
  },
  {
   "cell_type": "code",
   "execution_count": 21,
   "metadata": {
    "scrolled": true
   },
   "outputs": [
    {
     "name": "stdout",
     "output_type": "stream",
     "text": [
      "Regressor()\n"
     ]
    }
   ],
   "source": [
    "print(reg_model)"
   ]
  }
 ],
 "metadata": {
  "kernelspec": {
   "display_name": "Python 3",
   "language": "python",
   "name": "python3"
  }
 },
 "nbformat": 4,
 "nbformat_minor": 2
}
