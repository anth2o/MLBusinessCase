{
 "cells": [
  {
   "cell_type": "code",
   "execution_count": 5,
   "metadata": {},
   "outputs": [],
   "source": [
    "import pandas as pd\n",
    "import numpy as np\n",
    "\n",
    "import preprocessing as pp\n",
    "import model\n",
    "from train import train_model\n",
    "from predict import predict\n",
    "\n",
    "pd.set_option('mode.chained_assignment', None)"
   ]
  },
  {
   "cell_type": "code",
   "execution_count": 6,
   "metadata": {},
   "outputs": [],
   "source": [
    "# Data loading\n",
    "df_store = pd.read_csv('../data/store.csv')\n",
    "df_train = pd.read_csv('../data/train.csv', low_memory=False)"
   ]
  },
  {
   "cell_type": "markdown",
   "metadata": {},
   "source": [
    "## General pipeline test"
   ]
  },
  {
   "cell_type": "markdown",
   "metadata": {},
   "source": [
    "### Model selection (Time-split cross-validation)"
   ]
  },
  {
   "cell_type": "code",
   "execution_count": 7,
   "metadata": {},
   "outputs": [
    {
     "name": "stderr",
     "output_type": "stream",
     "text": [
      "/anaconda3/lib/python3.6/site-packages/sklearn/ensemble/forest.py:246: FutureWarning: The default value of n_estimators will change from 10 in version 0.20 to 100 in 0.22.\n",
      "  \"10 in version 0.20 to 100 in 0.22.\", FutureWarning)\n",
      "/anaconda3/lib/python3.6/site-packages/sklearn/pipeline.py:331: DataConversionWarning: Data with input dtype int64, float64 were all converted to float64 by StandardScaler.\n",
      "  Xt = transform.transform(Xt)\n",
      "/anaconda3/lib/python3.6/site-packages/sklearn/pipeline.py:331: DataConversionWarning: Data with input dtype int64, float64 were all converted to float64 by StandardScaler.\n",
      "  Xt = transform.transform(Xt)\n",
      "/anaconda3/lib/python3.6/site-packages/sklearn/pipeline.py:331: DataConversionWarning: Data with input dtype int64, float64 were all converted to float64 by StandardScaler.\n",
      "  Xt = transform.transform(Xt)\n",
      "/anaconda3/lib/python3.6/site-packages/sklearn/pipeline.py:331: DataConversionWarning: Data with input dtype int64, float64 were all converted to float64 by StandardScaler.\n",
      "  Xt = transform.transform(Xt)\n",
      "/anaconda3/lib/python3.6/site-packages/sklearn/pipeline.py:331: DataConversionWarning: Data with input dtype int64, float64 were all converted to float64 by StandardScaler.\n",
      "  Xt = transform.transform(Xt)\n",
      "/anaconda3/lib/python3.6/site-packages/sklearn/pipeline.py:331: DataConversionWarning: Data with input dtype int64, float64 were all converted to float64 by StandardScaler.\n",
      "  Xt = transform.transform(Xt)\n",
      "/anaconda3/lib/python3.6/site-packages/sklearn/pipeline.py:331: DataConversionWarning: Data with input dtype int64, float64 were all converted to float64 by StandardScaler.\n",
      "  Xt = transform.transform(Xt)\n",
      "/anaconda3/lib/python3.6/site-packages/sklearn/pipeline.py:331: DataConversionWarning: Data with input dtype int64, float64 were all converted to float64 by StandardScaler.\n",
      "  Xt = transform.transform(Xt)\n",
      "/anaconda3/lib/python3.6/site-packages/sklearn/pipeline.py:331: DataConversionWarning: Data with input dtype int64, float64 were all converted to float64 by StandardScaler.\n",
      "  Xt = transform.transform(Xt)\n"
     ]
    },
    {
     "name": "stdout",
     "output_type": "stream",
     "text": [
      "FOLD 1: RSME = 1231.3391854777265 | R² = 0.8216264570573546\n",
      "FOLD 2: RSME = 1286.9352966696458 | R² = 0.8050295593719106\n",
      "FOLD 3: RSME = 1629.850235073431 | R² = 0.7282426717737905\n",
      "FOLD 4: RSME = 1294.3491347753384 | R² = 0.8059383491898818\n",
      "FOLD 5: RSME = 1553.8094595255377 | R² = 0.7380040545139812\n",
      "FOLD 6: RSME = 1551.0148798335006 | R² = 0.7204446268154161\n",
      "FOLD 7: RSME = 1479.35319217069 | R² = 0.7256451998099787\n",
      "FOLD 8: RSME = 1415.9167252460059 | R² = 0.7548224752943464\n",
      "FOLD 9: RSME = 1965.437493636001 | R² = 0.6544917914087907\n",
      "FOLD 10: RSME = 1724.6604317543934 | R² = 0.6812301906237108\n",
      "--- OVERALL ---\n",
      "RSME = 1571.08 | R² = 0.73\n"
     ]
    },
    {
     "name": "stderr",
     "output_type": "stream",
     "text": [
      "/anaconda3/lib/python3.6/site-packages/sklearn/pipeline.py:331: DataConversionWarning: Data with input dtype int64, float64 were all converted to float64 by StandardScaler.\n",
      "  Xt = transform.transform(Xt)\n"
     ]
    }
   ],
   "source": [
    "from sklearn.model_selection import TimeSeriesSplit\n",
    "from train import rmse, r2\n",
    "\n",
    "train = df_train.copy().iloc[::-1]\n",
    "train.Date = pd.to_datetime(train.Date)\n",
    "\n",
    "n_splits = 10\n",
    "test_size = 42\n",
    "tscv = TimeSeriesSplit(n_splits=n_splits)\n",
    "\n",
    "reg_model = model.Regressor()\n",
    "rmse_scores = []\n",
    "r2_scores = []\n",
    "\n",
    "date_grouping = train.groupby(train.Date)['Store']\n",
    "date_list = [g[0] for g in list(date_grouping)[:]]\n",
    "for train_index, test_index in tscv.split(date_grouping):\n",
    "    \n",
    "    # Fixed test set cardinality (in number of days)\n",
    "    train_index = np.append(train_index, list(range(len(train_index), 1 + int(test_index[-1] - test_size))))\n",
    "    test_index = test_index[(1 + int(train_index[-1] - test_index[0])):]\n",
    "    \n",
    "    train_dates = [date_list[train_index[0]], date_list[train_index[-1]]]\n",
    "    test_dates = [date_list[test_index[0]], date_list[test_index[-1]]]\n",
    "    train_mask = (train.Date >= train_dates[0]) & (train.Date <= train_dates[1])\n",
    "    test_mask = (train.Date >= test_dates[0]) & (train.Date <= test_dates[1])\n",
    "    \n",
    "    # Train and test sets\n",
    "    X_train, y_train, X_PCA_train = pp.Preprocessor().transform(df_store, train.loc[train_mask])\n",
    "    X_test, y_test, X_PCA_test = pp.Preprocessor().transform(df_store, train.loc[test_mask])\n",
    "    \n",
    "    # Dummy variables can induce differences in the schemas\n",
    "    missing_test = set(X_train.columns) - set(X_test.columns)\n",
    "    missing_train = set(X_test.columns) - set(X_train.columns)\n",
    "    for c in missing_test:\n",
    "        X_test[c] = 0\n",
    "    for c in missing_train:\n",
    "        X_train[c] = 0\n",
    "    # Reorder to match columns order in train and test\n",
    "    X_test = X_test[X_train.columns]\n",
    "    \n",
    "    # Model fitting on training set\n",
    "    train_model(reg_model, X_train, y_train)\n",
    "\n",
    "    # Scoring on test set\n",
    "    y_pred = reg_model.predict(X_test)\n",
    "    rmse_scores.append(rmse(y_test, y_pred))\n",
    "    r2_scores.append(r2(y_test, y_pred))\n",
    "        \n",
    "# Final display\n",
    "for i in range(n_splits):\n",
    "    print(\"FOLD \" + str(i + 1) + \": \" + \"RSME = \" + str(rmse_scores[i]) + \n",
    "      \" | R² = \" + str(r2_scores[i]))\n",
    "    \n",
    "# Overall scores\n",
    "w = [1 + 0.5 * i for i in range(1, n_splits + 1)]\n",
    "print(\"--- OVERALL ---\")\n",
    "print(\"RSME = \" + '{0:.2f}'.format(np.average(rmse_scores, weights=w)) + \" | R² = \" + '{0:.2f}'.format(np.average(r2_scores, weights=w)))"
   ]
  },
  {
   "cell_type": "markdown",
   "metadata": {},
   "source": [
    "### Model selection (Held-out test set of the last 6 weeks)"
   ]
  },
  {
   "cell_type": "code",
   "execution_count": 8,
   "metadata": {},
   "outputs": [
    {
     "name": "stderr",
     "output_type": "stream",
     "text": [
      "/anaconda3/lib/python3.6/site-packages/sklearn/ensemble/forest.py:246: FutureWarning: The default value of n_estimators will change from 10 in version 0.20 to 100 in 0.22.\n",
      "  \"10 in version 0.20 to 100 in 0.22.\", FutureWarning)\n"
     ]
    },
    {
     "name": "stdout",
     "output_type": "stream",
     "text": [
      "RSME = 1712.404206894745 | R² = 0.6835392522629897\n"
     ]
    },
    {
     "name": "stderr",
     "output_type": "stream",
     "text": [
      "/anaconda3/lib/python3.6/site-packages/sklearn/pipeline.py:331: DataConversionWarning: Data with input dtype int64, float64 were all converted to float64 by StandardScaler.\n",
      "  Xt = transform.transform(Xt)\n"
     ]
    }
   ],
   "source": [
    "from sklearn.model_selection import TimeSeriesSplit\n",
    "from train import rmse, r2\n",
    "\n",
    "train = df_train.copy().iloc[::-1]\n",
    "train.Date = pd.to_datetime(train.Date)\n",
    "train_set = train[train.Date < '2015-06-19']\n",
    "test_set = train[train.Date >= '2015-06-19']\n",
    "\n",
    "reg_model = model.Regressor()\n",
    "rmse_scores = []\n",
    "r2_scores = []\n",
    "\n",
    "X_train, y_train, X_PCA_train = pp.Preprocessor().transform(df_store, train_set)\n",
    "X_test, y_test, X_PCA_test = pp.Preprocessor().transform(df_store, test_set)\n",
    "\n",
    "# Dummy variables can induce differences in the schemas\n",
    "missing_test = set(X_train.columns) - set(X_test.columns)\n",
    "missing_train = set(X_test.columns) - set(X_train.columns)\n",
    "for c in missing_test:\n",
    "    X_test[c] = 0\n",
    "for c in missing_train:\n",
    "    X_train[c] = 0\n",
    "# Reorder to match columns order in train and test\n",
    "X_test = X_test[X_train.columns]\n",
    "\n",
    "# Model fitting on training set\n",
    "train_model(reg_model, X_train, y_train)\n",
    "\n",
    "# Scoring on test set\n",
    "y_pred = reg_model.predict(X_test)\n",
    "rmse_scores = rmse(y_test, y_pred)\n",
    "r2_scores = r2(y_test, y_pred)\n",
    "\n",
    "print(\"RSME = \" + str(rmse_scores) + \" | R² = \" + str(r2_scores))"
   ]
  },
  {
   "cell_type": "markdown",
   "metadata": {},
   "source": [
    "### Model selection"
   ]
  },
  {
   "cell_type": "code",
   "execution_count": null,
   "metadata": {},
   "outputs": [
    {
     "name": "stderr",
     "output_type": "stream",
     "text": [
      "/anaconda3/lib/python3.6/site-packages/ipykernel_launcher.py:57: DataConversionWarning: Data with input dtype int64, float64 were all converted to float64 by StandardScaler.\n",
      "/anaconda3/lib/python3.6/site-packages/ipykernel_launcher.py:57: DataConversionWarning: Data with input dtype int64, float64 were all converted to float64 by StandardScaler.\n",
      "/anaconda3/lib/python3.6/site-packages/ipykernel_launcher.py:57: DataConversionWarning: Data with input dtype int64, float64 were all converted to float64 by StandardScaler.\n",
      "/anaconda3/lib/python3.6/site-packages/ipykernel_launcher.py:57: DataConversionWarning: Data with input dtype int64, float64 were all converted to float64 by StandardScaler.\n",
      "/anaconda3/lib/python3.6/site-packages/ipykernel_launcher.py:57: DataConversionWarning: Data with input dtype int64, float64 were all converted to float64 by StandardScaler.\n"
     ]
    },
    {
     "name": "stdout",
     "output_type": "stream",
     "text": [
      "LR: 0.224845 (0.041672)\n"
     ]
    },
    {
     "name": "stderr",
     "output_type": "stream",
     "text": [
      "/anaconda3/lib/python3.6/site-packages/ipykernel_launcher.py:57: DataConversionWarning: Data with input dtype int64, float64 were all converted to float64 by StandardScaler.\n",
      "/anaconda3/lib/python3.6/site-packages/ipykernel_launcher.py:57: DataConversionWarning: Data with input dtype int64, float64 were all converted to float64 by StandardScaler.\n",
      "/anaconda3/lib/python3.6/site-packages/ipykernel_launcher.py:57: DataConversionWarning: Data with input dtype int64, float64 were all converted to float64 by StandardScaler.\n",
      "/anaconda3/lib/python3.6/site-packages/ipykernel_launcher.py:57: DataConversionWarning: Data with input dtype int64, float64 were all converted to float64 by StandardScaler.\n"
     ]
    }
   ],
   "source": [
    "from sklearn.preprocessing import StandardScaler\n",
    "from sklearn.linear_model import LinearRegression\n",
    "from xgboost import XGBRegressor\n",
    "from sklearn.ensemble import RandomForestRegressor\n",
    "\n",
    "models = []\n",
    "models.append(('LR', LinearRegression()))\n",
    "models.append(('XGB', XGBRegressor()))\n",
    "models.append(('RF', RandomForestRegressor()))\n",
    "\n",
    "std = StandardScaler()\n",
    "\n",
    "results = []\n",
    "names = []\n",
    "\n",
    "train = df_train.copy().iloc[::-1]\n",
    "train.Date = pd.to_datetime(train.Date)\n",
    "\n",
    "n_splits = 5\n",
    "tscv = TimeSeriesSplit(n_splits=n_splits)\n",
    "\n",
    "date_grouping = train.groupby(train.Date)['Store']\n",
    "date_list = [g[0] for g in list(date_grouping)[:]]\n",
    "\n",
    "for name, model in models:\n",
    "    r2_scores = []\n",
    "    \n",
    "    for train_index, test_index in tscv.split(date_grouping):\n",
    "        # Fixed test set cardinality (in number of days)\n",
    "        train_index = np.append(train_index, list(range(len(train_index), 1 + int(test_index[-1] - test_size))))\n",
    "        test_index = test_index[(1 + int(train_index[-1] - test_index[0])):]\n",
    "\n",
    "        train_dates = [date_list[train_index[0]], date_list[train_index[-1]]]\n",
    "        test_dates = [date_list[test_index[0]], date_list[test_index[-1]]]\n",
    "        train_mask = (train.Date >= train_dates[0]) & (train.Date <= train_dates[1])\n",
    "        test_mask = (train.Date >= test_dates[0]) & (train.Date <= test_dates[1])\n",
    "\n",
    "        # Train and test sets\n",
    "        X_train, y_train, X_PCA_train = pp.Preprocessor().transform(df_store, train.loc[train_mask])\n",
    "        X_test, y_test, X_PCA_test = pp.Preprocessor().transform(df_store, train.loc[test_mask])\n",
    "        \n",
    "         # Train and test sets\n",
    "        X_train, y_train, X_PCA_train = pp.Preprocessor().transform(df_store, train.loc[train_mask])\n",
    "        X_test, y_test, X_PCA_test = pp.Preprocessor().transform(df_store, train.loc[test_mask])\n",
    "\n",
    "        # Dummy variables can induce differences in the schemas\n",
    "        missing_test = set(X_train.columns) - set(X_test.columns)\n",
    "        missing_train = set(X_test.columns) - set(X_train.columns)\n",
    "        for c in missing_test:\n",
    "            X_test[c] = 0\n",
    "        for c in missing_train:\n",
    "            X_train[c] = 0\n",
    "        # Reorder to match columns order in train and test\n",
    "        X_test = X_test[X_train.columns]\n",
    "        \n",
    "        X_train = std.fit_transform(X_train.loc[:, X_train.columns != 'Date'])\n",
    "        X_test = std.transform(X_test.loc[:, X_test.columns != 'Date'])\n",
    "\n",
    "        # Model fitting on training set\n",
    "        model.fit(X_train, y_train)\n",
    "\n",
    "        # Scoring on test set\n",
    "        y_pred = model.predict(X_test)\n",
    "        r2_scores.append(r2(y_test, y_pred))\n",
    "    \n",
    "    results.append(r2_scores)\n",
    "    names.append(name)\n",
    "    msg = \"%s: %f (%f)\" % (name, np.mean(r2_scores), np.std(r2_scores))\n",
    "    print(msg)"
   ]
  },
  {
   "cell_type": "code",
   "execution_count": null,
   "metadata": {},
   "outputs": [],
   "source": [
    "import matplotlib.pyplot as plt\n",
    "%matplotlib inline\n",
    "\n",
    "fig = plt.figure(figsize=(15,10))\n",
    "fig.suptitle('Algorithm Comparison')\n",
    "ax = fig.add_subplot(111)\n",
    "plt.boxplot(results)\n",
    "ax.set_xticklabels(names)\n",
    "plt.show()"
   ]
  },
  {
   "cell_type": "markdown",
   "metadata": {},
   "source": [
    "## Preprocessing tests"
   ]
  },
  {
   "cell_type": "code",
   "execution_count": 17,
   "metadata": {
    "collapsed": true
   },
   "outputs": [],
   "source": [
    "# Data loading\n",
    "df_store = pd.read_csv('../data/store.csv')\n",
    "df_train = pd.read_csv('../data/train.csv', low_memory=False)"
   ]
  },
  {
   "cell_type": "code",
   "execution_count": 18,
   "metadata": {},
   "outputs": [
    {
     "name": "stdout",
     "output_type": "stream",
     "text": [
      "(844392, 22) (844392,) (844392, 13)\n"
     ]
    },
    {
     "data": {
      "text/html": [
       "<div>\n",
       "<style scoped>\n",
       "    .dataframe tbody tr th:only-of-type {\n",
       "        vertical-align: middle;\n",
       "    }\n",
       "\n",
       "    .dataframe tbody tr th {\n",
       "        vertical-align: top;\n",
       "    }\n",
       "\n",
       "    .dataframe thead th {\n",
       "        text-align: right;\n",
       "    }\n",
       "</style>\n",
       "<table border=\"1\" class=\"dataframe\">\n",
       "  <thead>\n",
       "    <tr style=\"text-align: right;\">\n",
       "      <th></th>\n",
       "      <th>DayOfWeek</th>\n",
       "      <th>Date</th>\n",
       "      <th>Open</th>\n",
       "      <th>Promo</th>\n",
       "      <th>SchoolHoliday</th>\n",
       "      <th>StateHoliday_a</th>\n",
       "      <th>StateHoliday_b</th>\n",
       "      <th>StateHoliday_c</th>\n",
       "      <th>cos_DayOfWeek</th>\n",
       "      <th>sin_DayOfWeek</th>\n",
       "      <th>...</th>\n",
       "      <th>PromoInterval_Feb,May,Aug,Nov</th>\n",
       "      <th>PromoInterval_Jan,Apr,Jul,Oct</th>\n",
       "      <th>PromoInterval_Mar,Jun,Sept,Dec</th>\n",
       "      <th>StoreType_b</th>\n",
       "      <th>StoreType_c</th>\n",
       "      <th>StoreType_d</th>\n",
       "      <th>Assortment_b</th>\n",
       "      <th>Assortment_c</th>\n",
       "      <th>CompetitionOpenSince</th>\n",
       "      <th>Promo2Since</th>\n",
       "    </tr>\n",
       "  </thead>\n",
       "  <tbody>\n",
       "    <tr>\n",
       "      <th>0</th>\n",
       "      <td>5</td>\n",
       "      <td>2015-07-31</td>\n",
       "      <td>1</td>\n",
       "      <td>1</td>\n",
       "      <td>1</td>\n",
       "      <td>0</td>\n",
       "      <td>0</td>\n",
       "      <td>0</td>\n",
       "      <td>-0.222521</td>\n",
       "      <td>-0.974928</td>\n",
       "      <td>...</td>\n",
       "      <td>0</td>\n",
       "      <td>0</td>\n",
       "      <td>0</td>\n",
       "      <td>0</td>\n",
       "      <td>1</td>\n",
       "      <td>0</td>\n",
       "      <td>0</td>\n",
       "      <td>0</td>\n",
       "      <td>105.0</td>\n",
       "      <td>648.142857</td>\n",
       "    </tr>\n",
       "    <tr>\n",
       "      <th>1</th>\n",
       "      <td>4</td>\n",
       "      <td>2015-07-30</td>\n",
       "      <td>1</td>\n",
       "      <td>1</td>\n",
       "      <td>1</td>\n",
       "      <td>0</td>\n",
       "      <td>0</td>\n",
       "      <td>0</td>\n",
       "      <td>-0.900969</td>\n",
       "      <td>-0.433884</td>\n",
       "      <td>...</td>\n",
       "      <td>0</td>\n",
       "      <td>0</td>\n",
       "      <td>0</td>\n",
       "      <td>0</td>\n",
       "      <td>1</td>\n",
       "      <td>0</td>\n",
       "      <td>0</td>\n",
       "      <td>0</td>\n",
       "      <td>105.0</td>\n",
       "      <td>648.142857</td>\n",
       "    </tr>\n",
       "    <tr>\n",
       "      <th>2</th>\n",
       "      <td>3</td>\n",
       "      <td>2015-07-29</td>\n",
       "      <td>1</td>\n",
       "      <td>1</td>\n",
       "      <td>1</td>\n",
       "      <td>0</td>\n",
       "      <td>0</td>\n",
       "      <td>0</td>\n",
       "      <td>-0.900969</td>\n",
       "      <td>0.433884</td>\n",
       "      <td>...</td>\n",
       "      <td>0</td>\n",
       "      <td>0</td>\n",
       "      <td>0</td>\n",
       "      <td>0</td>\n",
       "      <td>1</td>\n",
       "      <td>0</td>\n",
       "      <td>0</td>\n",
       "      <td>0</td>\n",
       "      <td>105.0</td>\n",
       "      <td>648.142857</td>\n",
       "    </tr>\n",
       "    <tr>\n",
       "      <th>3</th>\n",
       "      <td>2</td>\n",
       "      <td>2015-07-28</td>\n",
       "      <td>1</td>\n",
       "      <td>1</td>\n",
       "      <td>1</td>\n",
       "      <td>0</td>\n",
       "      <td>0</td>\n",
       "      <td>0</td>\n",
       "      <td>-0.222521</td>\n",
       "      <td>0.974928</td>\n",
       "      <td>...</td>\n",
       "      <td>0</td>\n",
       "      <td>0</td>\n",
       "      <td>0</td>\n",
       "      <td>0</td>\n",
       "      <td>1</td>\n",
       "      <td>0</td>\n",
       "      <td>0</td>\n",
       "      <td>0</td>\n",
       "      <td>105.0</td>\n",
       "      <td>648.142857</td>\n",
       "    </tr>\n",
       "    <tr>\n",
       "      <th>4</th>\n",
       "      <td>1</td>\n",
       "      <td>2015-07-27</td>\n",
       "      <td>1</td>\n",
       "      <td>1</td>\n",
       "      <td>1</td>\n",
       "      <td>0</td>\n",
       "      <td>0</td>\n",
       "      <td>0</td>\n",
       "      <td>0.623490</td>\n",
       "      <td>0.781831</td>\n",
       "      <td>...</td>\n",
       "      <td>0</td>\n",
       "      <td>0</td>\n",
       "      <td>0</td>\n",
       "      <td>0</td>\n",
       "      <td>1</td>\n",
       "      <td>0</td>\n",
       "      <td>0</td>\n",
       "      <td>0</td>\n",
       "      <td>105.0</td>\n",
       "      <td>648.142857</td>\n",
       "    </tr>\n",
       "  </tbody>\n",
       "</table>\n",
       "<p>5 rows × 22 columns</p>\n",
       "</div>"
      ],
      "text/plain": [
       "   DayOfWeek        Date  Open  Promo  SchoolHoliday  StateHoliday_a  \\\n",
       "0          5  2015-07-31     1      1              1               0   \n",
       "1          4  2015-07-30     1      1              1               0   \n",
       "2          3  2015-07-29     1      1              1               0   \n",
       "3          2  2015-07-28     1      1              1               0   \n",
       "4          1  2015-07-27     1      1              1               0   \n",
       "\n",
       "   StateHoliday_b  StateHoliday_c  cos_DayOfWeek  sin_DayOfWeek     ...       \\\n",
       "0               0               0      -0.222521      -0.974928     ...        \n",
       "1               0               0      -0.900969      -0.433884     ...        \n",
       "2               0               0      -0.900969       0.433884     ...        \n",
       "3               0               0      -0.222521       0.974928     ...        \n",
       "4               0               0       0.623490       0.781831     ...        \n",
       "\n",
       "   PromoInterval_Feb,May,Aug,Nov  PromoInterval_Jan,Apr,Jul,Oct  \\\n",
       "0                              0                              0   \n",
       "1                              0                              0   \n",
       "2                              0                              0   \n",
       "3                              0                              0   \n",
       "4                              0                              0   \n",
       "\n",
       "   PromoInterval_Mar,Jun,Sept,Dec  StoreType_b  StoreType_c  StoreType_d  \\\n",
       "0                               0            0            1            0   \n",
       "1                               0            0            1            0   \n",
       "2                               0            0            1            0   \n",
       "3                               0            0            1            0   \n",
       "4                               0            0            1            0   \n",
       "\n",
       "   Assortment_b  Assortment_c  CompetitionOpenSince  Promo2Since  \n",
       "0             0             0                 105.0   648.142857  \n",
       "1             0             0                 105.0   648.142857  \n",
       "2             0             0                 105.0   648.142857  \n",
       "3             0             0                 105.0   648.142857  \n",
       "4             0             0                 105.0   648.142857  \n",
       "\n",
       "[5 rows x 22 columns]"
      ]
     },
     "execution_count": 18,
     "metadata": {},
     "output_type": "execute_result"
    }
   ],
   "source": [
    "# Preprocessing\n",
    "X, y, X_PCA = pp.Preprocessor().transform(df_store, df_train)\n",
    "print(X.shape, y.shape, X_PCA.shape)\n",
    "X.head()"
   ]
  },
  {
   "cell_type": "code",
   "execution_count": 20,
   "metadata": {},
   "outputs": [],
   "source": [
    "reg_model = model.Regressor()\n",
    "train_model(reg_model, X, y)"
   ]
  },
  {
   "cell_type": "code",
   "execution_count": 21,
   "metadata": {
    "scrolled": true
   },
   "outputs": [
    {
     "name": "stdout",
     "output_type": "stream",
     "text": [
      "Regressor()\n"
     ]
    }
   ],
   "source": [
    "print(reg_model)"
   ]
  }
 ],
 "metadata": {
  "kernelspec": {
   "display_name": "Python 3",
   "language": "python",
   "name": "python3"
  },
  "language_info": {
   "codemirror_mode": {
    "name": "ipython",
    "version": 3
   },
   "file_extension": ".py",
   "mimetype": "text/x-python",
   "name": "python",
   "nbconvert_exporter": "python",
   "pygments_lexer": "ipython3",
   "version": "3.6.8"
  }
 },
 "nbformat": 4,
 "nbformat_minor": 2
}
